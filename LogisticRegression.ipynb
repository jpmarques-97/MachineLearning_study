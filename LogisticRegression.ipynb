{
  "nbformat": 4,
  "nbformat_minor": 0,
  "metadata": {
    "colab": {
      "name": "LogisticRegression.ipynb",
      "provenance": [],
      "collapsed_sections": [],
      "authorship_tag": "ABX9TyOBUY51+zI9BDxBKx8Fn6lR",
      "include_colab_link": true
    },
    "kernelspec": {
      "name": "python3",
      "display_name": "Python 3"
    }
  },
  "cells": [
    {
      "cell_type": "markdown",
      "metadata": {
        "id": "view-in-github",
        "colab_type": "text"
      },
      "source": [
        "<a href=\"https://colab.research.google.com/github/jpmarques-97/MachineLearning_study/blob/master/LogisticRegression.ipynb\" target=\"_parent\"><img src=\"https://colab.research.google.com/assets/colab-badge.svg\" alt=\"Open In Colab\"/></a>"
      ]
    },
    {
      "cell_type": "code",
      "metadata": {
        "id": "-ESCpl5o070r",
        "colab_type": "code",
        "colab": {}
      },
      "source": [
        "import numpy as np\n",
        "import matplotlib.pyplot as plt\n",
        "import pandas as pd\n",
        "from statistics import stdev \n",
        "from statistics import mean\n",
        "from matplotlib import style"
      ],
      "execution_count": 0,
      "outputs": []
    },
    {
      "cell_type": "code",
      "metadata": {
        "id": "1y3sBJDB2Rzu",
        "colab_type": "code",
        "outputId": "adce0a13-1384-445f-e83b-75c84b71100d",
        "colab": {
          "base_uri": "https://localhost:8080/",
          "height": 129
        }
      },
      "source": [
        "# Load the Drive helper and mount\n",
        "from google.colab import drive\n",
        "\n",
        "# This will prompt for authorization.\n",
        "drive.mount('/content/drive')"
      ],
      "execution_count": 0,
      "outputs": [
        {
          "output_type": "stream",
          "text": [
            "Go to this URL in a browser: https://accounts.google.com/o/oauth2/auth?client_id=947318989803-6bn6qk8qdgf4n4g3pfee6491hc0brc4i.apps.googleusercontent.com&redirect_uri=urn%3aietf%3awg%3aoauth%3a2.0%3aoob&response_type=code&scope=email%20https%3a%2f%2fwww.googleapis.com%2fauth%2fdocs.test%20https%3a%2f%2fwww.googleapis.com%2fauth%2fdrive%20https%3a%2f%2fwww.googleapis.com%2fauth%2fdrive.photos.readonly%20https%3a%2f%2fwww.googleapis.com%2fauth%2fpeopleapi.readonly\n",
            "\n",
            "Enter your authorization code:\n",
            "··········\n",
            "Mounted at /content/drive\n"
          ],
          "name": "stdout"
        }
      ]
    },
    {
      "cell_type": "code",
      "metadata": {
        "id": "DdVWEVHp2rTQ",
        "colab_type": "code",
        "outputId": "c8c34378-ec2d-47e1-8b31-f1e833cd9b2c",
        "colab": {
          "base_uri": "https://localhost:8080/",
          "height": 35
        }
      },
      "source": [
        "# After executing the cell above, Drive\n",
        "# files will be present in \"/content/drive/My Drive\".\n",
        "!ls \"/content/drive/My Drive/Coursera/Week3_data\""
      ],
      "execution_count": 0,
      "outputs": [
        {
          "output_type": "stream",
          "text": [
            "ex2data1.txt  ex2data2.txt  ex2.pdf\n"
          ],
          "name": "stdout"
        }
      ]
    },
    {
      "cell_type": "code",
      "metadata": {
        "id": "6q6mQ5g72v0-",
        "colab_type": "code",
        "outputId": "5bb431ce-f15e-4461-a7d4-8e5832cd6d6e",
        "colab": {
          "base_uri": "https://localhost:8080/",
          "height": 206
        }
      },
      "source": [
        "data = pd.read_csv('/content/drive/My Drive/Coursera/Week3_data/ex2data1.txt', header = None)\n",
        "data.insert(0,'bias',np.ones((len(data),1)))\n",
        "\n",
        "data.head()"
      ],
      "execution_count": 0,
      "outputs": [
        {
          "output_type": "execute_result",
          "data": {
            "text/html": [
              "<div>\n",
              "<style scoped>\n",
              "    .dataframe tbody tr th:only-of-type {\n",
              "        vertical-align: middle;\n",
              "    }\n",
              "\n",
              "    .dataframe tbody tr th {\n",
              "        vertical-align: top;\n",
              "    }\n",
              "\n",
              "    .dataframe thead th {\n",
              "        text-align: right;\n",
              "    }\n",
              "</style>\n",
              "<table border=\"1\" class=\"dataframe\">\n",
              "  <thead>\n",
              "    <tr style=\"text-align: right;\">\n",
              "      <th></th>\n",
              "      <th>bias</th>\n",
              "      <th>0</th>\n",
              "      <th>1</th>\n",
              "      <th>2</th>\n",
              "    </tr>\n",
              "  </thead>\n",
              "  <tbody>\n",
              "    <tr>\n",
              "      <th>0</th>\n",
              "      <td>1.0</td>\n",
              "      <td>34.623660</td>\n",
              "      <td>78.024693</td>\n",
              "      <td>0</td>\n",
              "    </tr>\n",
              "    <tr>\n",
              "      <th>1</th>\n",
              "      <td>1.0</td>\n",
              "      <td>30.286711</td>\n",
              "      <td>43.894998</td>\n",
              "      <td>0</td>\n",
              "    </tr>\n",
              "    <tr>\n",
              "      <th>2</th>\n",
              "      <td>1.0</td>\n",
              "      <td>35.847409</td>\n",
              "      <td>72.902198</td>\n",
              "      <td>0</td>\n",
              "    </tr>\n",
              "    <tr>\n",
              "      <th>3</th>\n",
              "      <td>1.0</td>\n",
              "      <td>60.182599</td>\n",
              "      <td>86.308552</td>\n",
              "      <td>1</td>\n",
              "    </tr>\n",
              "    <tr>\n",
              "      <th>4</th>\n",
              "      <td>1.0</td>\n",
              "      <td>79.032736</td>\n",
              "      <td>75.344376</td>\n",
              "      <td>1</td>\n",
              "    </tr>\n",
              "  </tbody>\n",
              "</table>\n",
              "</div>"
            ],
            "text/plain": [
              "   bias          0          1  2\n",
              "0   1.0  34.623660  78.024693  0\n",
              "1   1.0  30.286711  43.894998  0\n",
              "2   1.0  35.847409  72.902198  0\n",
              "3   1.0  60.182599  86.308552  1\n",
              "4   1.0  79.032736  75.344376  1"
            ]
          },
          "metadata": {
            "tags": []
          },
          "execution_count": 6
        }
      ]
    },
    {
      "cell_type": "code",
      "metadata": {
        "id": "Yvcx9dPC5Rbb",
        "colab_type": "code",
        "outputId": "53560e0d-0e91-4bc7-ee7e-1517f686726a",
        "colab": {
          "base_uri": "https://localhost:8080/",
          "height": 206
        }
      },
      "source": [
        "data.rename(columns={0:'x1', 1:'x2', 2:'label'},inplace=True)\n",
        "data.head()"
      ],
      "execution_count": 0,
      "outputs": [
        {
          "output_type": "execute_result",
          "data": {
            "text/html": [
              "<div>\n",
              "<style scoped>\n",
              "    .dataframe tbody tr th:only-of-type {\n",
              "        vertical-align: middle;\n",
              "    }\n",
              "\n",
              "    .dataframe tbody tr th {\n",
              "        vertical-align: top;\n",
              "    }\n",
              "\n",
              "    .dataframe thead th {\n",
              "        text-align: right;\n",
              "    }\n",
              "</style>\n",
              "<table border=\"1\" class=\"dataframe\">\n",
              "  <thead>\n",
              "    <tr style=\"text-align: right;\">\n",
              "      <th></th>\n",
              "      <th>bias</th>\n",
              "      <th>x1</th>\n",
              "      <th>x2</th>\n",
              "      <th>label</th>\n",
              "    </tr>\n",
              "  </thead>\n",
              "  <tbody>\n",
              "    <tr>\n",
              "      <th>0</th>\n",
              "      <td>1.0</td>\n",
              "      <td>34.623660</td>\n",
              "      <td>78.024693</td>\n",
              "      <td>0</td>\n",
              "    </tr>\n",
              "    <tr>\n",
              "      <th>1</th>\n",
              "      <td>1.0</td>\n",
              "      <td>30.286711</td>\n",
              "      <td>43.894998</td>\n",
              "      <td>0</td>\n",
              "    </tr>\n",
              "    <tr>\n",
              "      <th>2</th>\n",
              "      <td>1.0</td>\n",
              "      <td>35.847409</td>\n",
              "      <td>72.902198</td>\n",
              "      <td>0</td>\n",
              "    </tr>\n",
              "    <tr>\n",
              "      <th>3</th>\n",
              "      <td>1.0</td>\n",
              "      <td>60.182599</td>\n",
              "      <td>86.308552</td>\n",
              "      <td>1</td>\n",
              "    </tr>\n",
              "    <tr>\n",
              "      <th>4</th>\n",
              "      <td>1.0</td>\n",
              "      <td>79.032736</td>\n",
              "      <td>75.344376</td>\n",
              "      <td>1</td>\n",
              "    </tr>\n",
              "  </tbody>\n",
              "</table>\n",
              "</div>"
            ],
            "text/plain": [
              "   bias         x1         x2  label\n",
              "0   1.0  34.623660  78.024693      0\n",
              "1   1.0  30.286711  43.894998      0\n",
              "2   1.0  35.847409  72.902198      0\n",
              "3   1.0  60.182599  86.308552      1\n",
              "4   1.0  79.032736  75.344376      1"
            ]
          },
          "metadata": {
            "tags": []
          },
          "execution_count": 7
        }
      ]
    },
    {
      "cell_type": "code",
      "metadata": {
        "id": "V67n31v07lfy",
        "colab_type": "code",
        "colab": {}
      },
      "source": [
        "df1 = data.query('label==0')\n",
        "\n",
        "df2 = data.query('label==1')"
      ],
      "execution_count": 0,
      "outputs": []
    },
    {
      "cell_type": "code",
      "metadata": {
        "id": "Bkp4LluL8Tqs",
        "colab_type": "code",
        "colab": {}
      },
      "source": [
        "x = np.array([data['bias'],data['x1'],data['x2']])\n",
        "\n",
        "a,b = x.shape\n",
        "y = np.array(data['label']).reshape(b,1)\n",
        "\n",
        "x_1 = np.array([df1['bias'],df1['x1'],df1['x2']])\n",
        "a,b = x_1.shape\n",
        "y_1 = np.array(df1['label']).reshape(b,1)\n",
        "\n",
        "x_2 = np.array([df2['bias'],df2['x1'],df2['x2']])\n",
        "a,b = x_2.shape\n",
        "y_2 = np.array(df2['label']).reshape(b,1)\n",
        "\n",
        "theta = np.zeros((3,1)).reshape(3,1)\n"
      ],
      "execution_count": 0,
      "outputs": []
    },
    {
      "cell_type": "code",
      "metadata": {
        "id": "26veUniN9u8M",
        "colab_type": "code",
        "outputId": "121f32a2-c508-4ede-de53-5a8a75a9feb5",
        "colab": {
          "base_uri": "https://localhost:8080/",
          "height": 279
        }
      },
      "source": [
        "\n",
        "f = plt.figure(figsize=(18,4))\n",
        "ax = f.add_subplot(121)\n",
        "ax.scatter(x_1[1],x_1[2])\n",
        "ax.scatter(x_2[1],x_2[2])\n",
        "\n",
        "plt.ylabel('Feature 1');\n",
        "plt.xlabel('Feature 2');\n",
        "ax.legend(['Class 1', 'Class 2'])\n",
        "f.show()"
      ],
      "execution_count": 0,
      "outputs": [
        {
          "output_type": "display_data",
          "data": {
            "image/png": "[encoded data removed]",
            "text/plain": [
              "<Figure size 1296x288 with 1 Axes>"
            ]
          },
          "metadata": {
            "tags": [],
            "needs_background": "light"
          }
        }
      ]
    },
    {
      "cell_type": "code",
      "metadata": {
        "id": "gLDpN_X_AzWf",
        "colab_type": "code",
        "colab": {}
      },
      "source": [
        "def sigmoid(z):\n",
        "  return .5 * (1 + np.tanh(.5 * z))"
      ],
      "execution_count": 0,
      "outputs": []
    },
    {
      "cell_type": "code",
      "metadata": {
        "id": "PyJlq1VSB2d1",
        "colab_type": "code",
        "colab": {}
      },
      "source": [
        "def h(theta,x):\n",
        "  theta = np.transpose(theta)\n",
        "  x = x.reshape(3,1)\n",
        "  predict = np.matmul(theta,x)\n",
        "  return sigmoid(predict)"
      ],
      "execution_count": 0,
      "outputs": []
    },
    {
      "cell_type": "code",
      "metadata": {
        "id": "0BAgyzLUB620",
        "colab_type": "code",
        "colab": {}
      },
      "source": [
        "def cost(theta,x,y):\n",
        "  custo = np.sum(-(np.log(0.00001+sigmoid(np.matmul(theta.T,x)))*y.T)-((1-y.T)*np.log(1.00001-sigmoid(np.matmul(theta.T,x)))))\n",
        "  return custo/len(x[0])"
      ],
      "execution_count": 0,
      "outputs": []
    },
    {
      "cell_type": "code",
      "metadata": {
        "id": "64CknZXph8MP",
        "colab_type": "code",
        "outputId": "2b63790e-a3ba-43c7-8170-0c3405d20b08",
        "colab": {
          "base_uri": "https://localhost:8080/",
          "height": 35
        }
      },
      "source": [
        "cost(theta,x,y)"
      ],
      "execution_count": 0,
      "outputs": [
        {
          "output_type": "execute_result",
          "data": {
            "text/plain": [
              "6.561972016867593"
            ]
          },
          "metadata": {
            "tags": []
          },
          "execution_count": 22
        }
      ]
    },
    {
      "cell_type": "code",
      "metadata": {
        "id": "8afLGBs6INlE",
        "colab_type": "code",
        "colab": {}
      },
      "source": [
        "def gradientDescent(theta,x,y,itherations):\n",
        "  x = x.T\n",
        "  for i in range(itherations):\n",
        "    for i,item in enumerate(theta):\n",
        "      delta = 0\n",
        "      a = (sigmoid(np.matmul(theta.T,x.T))-y.T)\n",
        "      b = (x.T[2-i].reshape(1,100))\n",
        "\n",
        "      theta[2-i] -= (np.sum(a*b)/len(x))\n",
        "\n",
        "\n",
        "  return theta"
      ],
      "execution_count": 0,
      "outputs": []
    },
    {
      "cell_type": "code",
      "metadata": {
        "id": "Rz7WA2wvrkHi",
        "colab_type": "code",
        "colab": {}
      },
      "source": [
        "theta = np.zeros((3,1)).reshape(3,1)"
      ],
      "execution_count": 0,
      "outputs": []
    },
    {
      "cell_type": "code",
      "metadata": {
        "id": "SKP5tHigDony",
        "colab_type": "code",
        "outputId": "7d609cc0-b17c-4604-ed4d-175575455a4a",
        "colab": {
          "base_uri": "https://localhost:8080/",
          "height": 72
        }
      },
      "source": [
        "theta = gradientDescent(theta,x,y,2000)\n",
        "\n",
        "theta"
      ],
      "execution_count": 0,
      "outputs": [
        {
          "output_type": "execute_result",
          "data": {
            "text/plain": [
              "array([[-162.42900827],\n",
              "       [  10.2405392 ],\n",
              "       [ -12.73470618]])"
            ]
          },
          "metadata": {
            "tags": []
          },
          "execution_count": 17
        }
      ]
    }
  ]
}
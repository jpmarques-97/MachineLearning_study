{
  "nbformat": 4,
  "nbformat_minor": 0,
  "metadata": {
    "colab": {
      "name": "NN_from_scrath.ipynb",
      "provenance": [],
      "collapsed_sections": [],
      "authorship_tag": "ABX9TyPmL/wYOkPIEM8MHrKn8AZb",
      "include_colab_link": true
    },
    "kernelspec": {
      "name": "python3",
      "display_name": "Python 3"
    }
  },
  "cells": [
    {
      "cell_type": "markdown",
      "metadata": {
        "id": "view-in-github",
        "colab_type": "text"
      },
      "source": [
        "<a href=\"https://colab.research.google.com/github/jpmarques-97/MachineLearning_study/blob/master/NN_from_scrath.ipynb\" target=\"_parent\"><img src=\"https://colab.research.google.com/assets/colab-badge.svg\" alt=\"Open In Colab\"/></a>"
      ]
    },
    {
      "cell_type": "code",
      "metadata": {
        "id": "ZXOjKkF4_0ao",
        "colab_type": "code",
        "colab": {}
      },
      "source": [
        "import numpy as np\n",
        "import matplotlib.pyplot as plt"
      ],
      "execution_count": 0,
      "outputs": []
    },
    {
      "cell_type": "code",
      "metadata": {
        "id": "0u2KgdqEGwPK",
        "colab_type": "code",
        "colab": {}
      },
      "source": [
        "def sigmoid(x):\n",
        "  return 1/(1+np.exp(-x))\n",
        "\n",
        "def sigmoid_derivative(x):\n",
        "  return np.multiply(x,1-x)\n",
        "\n",
        "def randomize(value):\n",
        "  return value+np.random.random()\n",
        "\n",
        "def square_error(x):\n",
        "  return (x)**2"
      ],
      "execution_count": 0,
      "outputs": []
    },
    {
      "cell_type": "code",
      "metadata": {
        "id": "uIEGM-7iCo9o",
        "colab_type": "code",
        "colab": {}
      },
      "source": [
        "class NeuralNetwork:\n",
        "    def __init__(self, x, y):\n",
        "        self.input      = x\n",
        "        self.weights1   = np.random.rand(self.input[0].shape[1],4) \n",
        "        self.weights2   = np.random.rand(4,1)                 \n",
        "        self.y          = y\n",
        "        self.output     = np.zeros(self.y[0].shape)\n",
        "\n",
        "    def feedforward(self):\n",
        "        self.index = int(np.random.random()*4)\n",
        "        self.layer1 = sigmoid(np.dot(self.input[self.index], self.weights1))\n",
        "        self.output = sigmoid(np.dot(self.layer1, self.weights2))\n",
        "\n",
        "    def predict(self,index):\n",
        "        self.index = index\n",
        "        self.layer1 = sigmoid(np.dot(self.input[self.index], self.weights1))\n",
        "        self.output = sigmoid(np.dot(self.layer1, self.weights2))\n",
        "\n",
        "    def backprop(self):\n",
        "        # application of the chain rule to find derivative of the loss function with respect to weights2 and weights1\n",
        "        d_weights2 = np.dot(self.layer1.T, (2*(self.y[self.index] - self.output) * sigmoid_derivative(self.output)))\n",
        "        a=np.dot(2*(self.y[self.index] - self.output) * sigmoid_derivative(self.output), self.weights2.T)\n",
        "        b=sigmoid_derivative(self.layer1)\n",
        "        d_weights1 = np.dot(self.input[self.index].T,  np.multiply(a,b))\n",
        "\n",
        "        # update the weights with the derivative (slope) of the loss function\n",
        "        self.weights1 += d_weights1\n",
        "        self.weights2 += d_weights2"
      ],
      "execution_count": 0,
      "outputs": []
    },
    {
      "cell_type": "code",
      "metadata": {
        "id": "xwOYWWS_Qcar",
        "colab_type": "code",
        "colab": {}
      },
      "source": [
        "#x = [np.matrix([0,0,1]),np.matrix([0,1,1]),np.matrix([1,0,1]),np.matrix([1,1,1])]\n",
        "x = [np.matrix([0,0]),np.matrix([0,1]),np.matrix([1,0]),np.matrix([1,1])]\n",
        "y = [np.matrix([0]),np.matrix([1]),np.matrix([1]),np.matrix([0])]\n",
        "\n",
        "rede = NeuralNetwork(x,y)\n",
        "for i in range(50000):\n",
        "  rede.feedforward()\n",
        "  rede.backprop()\n"
      ],
      "execution_count": 0,
      "outputs": []
    },
    {
      "cell_type": "code",
      "metadata": {
        "id": "IpPxwhCKJ5NQ",
        "colab_type": "code",
        "outputId": "e887416f-e181-4fa0-cd30-7c8cfc317c69",
        "colab": {
          "base_uri": "https://localhost:8080/",
          "height": 90
        }
      },
      "source": [
        "rede.predict(0)#expected 0\n",
        "print(rede.output)\n",
        "rede.predict(1)#exeted 1\n",
        "print(rede.output)\n",
        "rede.predict(2)#expeted 1\n",
        "print(rede.output)\n",
        "rede.predict(3)#expected 0\n",
        "print(rede.output)"
      ],
      "execution_count": 0,
      "outputs": [
        {
          "output_type": "stream",
          "text": [
            "[[0.01284332]]\n",
            "[[0.98873304]]\n",
            "[[0.99010003]]\n",
            "[[0.00929676]]\n"
          ],
          "name": "stdout"
        }
      ]
    }
  ]
}
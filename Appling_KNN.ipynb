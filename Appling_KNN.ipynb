{
  "nbformat": 4,
  "nbformat_minor": 0,
  "metadata": {
    "colab": {
      "name": "Untitled0.ipynb",
      "provenance": [],
      "collapsed_sections": [],
      "authorship_tag": "ABX9TyM9L4ksdP6IVSRwgkuJmLUr",
      "include_colab_link": true
    },
    "kernelspec": {
      "name": "python3",
      "display_name": "Python 3"
    }
  },
  "cells": [
    {
      "cell_type": "markdown",
      "metadata": {
        "id": "view-in-github",
        "colab_type": "text"
      },
      "source": [
        "<a href=\"https://colab.research.google.com/github/jpmarques-97/MachineLearning_study/blob/master/Appling_KNN.ipynb\" target=\"_parent\"><img src=\"https://colab.research.google.com/assets/colab-badge.svg\" alt=\"Open In Colab\"/></a>"
      ]
    },
    {
      "cell_type": "code",
      "metadata": {
        "id": "hSBblU1uQCTZ",
        "colab_type": "code",
        "colab": {}
      },
      "source": [
        "import requests\n",
        "import numpy as np\n",
        "import pandas as pd\n",
        "r = requests.get('https://archive.ics.uci.edu/ml/machine-learning-databases/breast-cancer/breast-cancer.data')\n",
        "r.encoding = 'utf-8'\n",
        "a=r.text.split(\"\\n\")\n",
        "splitted_data = [i.split(',') for i in a]\n",
        "\n"
      ],
      "execution_count": 0,
      "outputs": []
    },
    {
      "cell_type": "code",
      "metadata": {
        "id": "n1YI2_cYYPjJ",
        "colab_type": "code",
        "colab": {
          "base_uri": "https://localhost:8080/",
          "height": 1000
        },
        "outputId": "f9ba44c1-f9b6-4001-def0-f6dc02616fc5"
      },
      "source": [
        "q = requests.get('https://archive.ics.uci.edu/ml/machine-learning-databases/breast-cancer/breast-cancer.names')\n",
        "q.encoding = 'utf-8'\n",
        "q.text.split('\\n')"
      ],
      "execution_count": 96,
      "outputs": [
        {
          "output_type": "execute_result",
          "data": {
            "text/plain": [
              "['Citation Request:',\n",
              " '   This breast cancer domain was obtained from the University Medical Centre,',\n",
              " '   Institute of Oncology, Ljubljana, Yugoslavia.  Thanks go to M. Zwitter and ',\n",
              " '   M. Soklic for providing the data.  Please include this citation if you plan',\n",
              " '   to use this database.',\n",
              " '',\n",
              " '1. Title: Breast cancer data (Michalski has used this)',\n",
              " '',\n",
              " '2. Sources: ',\n",
              " '   -- Matjaz Zwitter & Milan Soklic (physicians)',\n",
              " '      Institute of Oncology ',\n",
              " '      University Medical Center',\n",
              " '      Ljubljana, Yugoslavia',\n",
              " '   -- Donors: Ming Tan and Jeff Schlimmer (Jeffrey.Schlimmer@a.gp.cs.cmu.edu)',\n",
              " '   -- Date: 11 July 1988',\n",
              " '',\n",
              " '3. Past Usage: (Several: here are some)',\n",
              " '     -- Michalski,R.S., Mozetic,I., Hong,J., & Lavrac,N. (1986). The ',\n",
              " '        Multi-Purpose Incremental Learning System AQ15 and its Testing ',\n",
              " '        Application to Three Medical Domains.  In Proceedings of the ',\n",
              " '        Fifth National Conference on Artificial Intelligence, 1041-1045,',\n",
              " '        Philadelphia, PA: Morgan Kaufmann.',\n",
              " '        -- accuracy range: 66%-72%',\n",
              " '     -- Clark,P. & Niblett,T. (1987). Induction in Noisy Domains.  In ',\n",
              " '        Progress in Machine Learning (from the Proceedings of the 2nd',\n",
              " '        European Working Session on Learning), 11-30, Bled, ',\n",
              " '        Yugoslavia: Sigma Press.',\n",
              " '        -- 8 test results given: 65%-72% accuracy range',\n",
              " '     -- Tan, M., & Eshelman, L. (1988). Using weighted networks to ',\n",
              " '        represent classification knowledge in noisy domains.  Proceedings ',\n",
              " '        of the Fifth International Conference on Machine Learning, 121-134,',\n",
              " '        Ann Arbor, MI.',\n",
              " '        -- 4 systems tested: accuracy range was 68%-73.5%',\n",
              " '    -- Cestnik,G., Konenenko,I, & Bratko,I. (1987). Assistant-86: A',\n",
              " '       Knowledge-Elicitation Tool for Sophisticated Users.  In I.Bratko',\n",
              " '       & N.Lavrac (Eds.) Progress in Machine Learning, 31-45, Sigma Press.',\n",
              " '       -- Assistant-86: 78% accuracy',\n",
              " '',\n",
              " '4. Relevant Information:',\n",
              " '     This is one of three domains provided by the Oncology Institute',\n",
              " '     that has repeatedly appeared in the machine learning literature.',\n",
              " '     (See also lymphography and primary-tumor.)',\n",
              " '',\n",
              " '     This data set includes 201 instances of one class and 85 instances of',\n",
              " '     another class.  The instances are described by 9 attributes, some of',\n",
              " '     which are linear and some are nominal.',\n",
              " '',\n",
              " '5. Number of Instances: 286',\n",
              " '',\n",
              " '6. Number of Attributes: 9 + the class attribute',\n",
              " '',\n",
              " '7. Attribute Information:',\n",
              " '   1. Class: no-recurrence-events, recurrence-events',\n",
              " '   2. age: 10-19, 20-29, 30-39, 40-49, 50-59, 60-69, 70-79, 80-89, 90-99.',\n",
              " '   3. menopause: lt40, ge40, premeno.',\n",
              " '   4. tumor-size: 0-4, 5-9, 10-14, 15-19, 20-24, 25-29, 30-34, 35-39, 40-44,',\n",
              " '                  45-49, 50-54, 55-59.',\n",
              " '   5. inv-nodes: 0-2, 3-5, 6-8, 9-11, 12-14, 15-17, 18-20, 21-23, 24-26,',\n",
              " '                 27-29, 30-32, 33-35, 36-39.',\n",
              " '   6. node-caps: yes, no.',\n",
              " '   7. deg-malig: 1, 2, 3.',\n",
              " '   8. breast: left, right.',\n",
              " '   9. breast-quad: left-up, left-low, right-up,\\tright-low, central.',\n",
              " '  10. irradiat:\\tyes, no.',\n",
              " '',\n",
              " '8. Missing Attribute Values: (denoted by \"?\")',\n",
              " '   Attribute #:  Number of instances with missing values:',\n",
              " '   6.             8',\n",
              " '   9.             1.',\n",
              " '',\n",
              " '9. Class Distribution:',\n",
              " '    1. no-recurrence-events: 201 instances',\n",
              " '    2. recurrence-events: 85 instances']"
            ]
          },
          "metadata": {
            "tags": []
          },
          "execution_count": 96
        }
      ]
    },
    {
      "cell_type": "code",
      "metadata": {
        "id": "8LLqOu06Zja-",
        "colab_type": "code",
        "colab": {}
      },
      "source": [
        "classes = { '1': {'no-recurrence-events':0,'recurrence-events':1 },\n",
        "            '2': {'10-19':0,'20-29':1,'30-39':2,'40-49':3,'50-59':4,'60-69':5,'70-79':6, '80-89':7, '90-99':8},\n",
        "            '3': {'lt40':0, 'ge40':1, 'premeno':2},\n",
        "            '4': {'0-4':0, '5-9':1, '10-14':2, '15-19':3, '20-24':4, '25-29':5, '30-34':6, '35-39':7, '40-44':8,'45-49':9, '50-54':10, '55-59':11},\n",
        "            '5': {'0-2':0, '3-5':1, '6-8':2, '9-11':3, '12-14':4, '15-17':5, '18-20':6, '21-23':7, '24-26':8, '27-29':9, '30-32':10, '33-35':11, '36-39':12},\n",
        "            '6': { 'yes':0, 'no':1},\n",
        "            '7': {'1':0, '2':1, '3':2},\n",
        "            '8': {'left':0, 'right':1},\n",
        "            '9': {'left_up':0, 'left_low':1, 'right_up':2,'right_low':3, 'central':4},\n",
        "            '10': { 'yes':0, 'no':1}\n",
        "            }\n",
        "for ponto in splitted_data:\n",
        "  for dimensao in range(len(ponto)):\n",
        "    if ponto[dimensao] != '?' and ponto[dimensao] != '':\n",
        "      ponto[dimensao] = classes[str(dimensao+1)][ponto[dimensao]]\n",
        "\n",
        "\n",
        "   "
      ],
      "execution_count": 0,
      "outputs": []
    },
    {
      "cell_type": "code",
      "metadata": {
        "id": "-krzyS9VoImZ",
        "colab_type": "code",
        "colab": {
          "base_uri": "https://localhost:8080/",
          "height": 206
        },
        "outputId": "89056e44-6f54-4dc3-8ba7-d05413b27c89"
      },
      "source": [
        "df = pd.DataFrame.from_dict(splitted_data)\n",
        "df = df.drop(df.columns[9],axis=1)\n",
        "df = df.drop(df.columns[8],axis=1)\n",
        "df.replace('?',-9999,inplace=True)\n",
        "df.replace('',-9999,inplace=True)\n",
        "df.fillna(-9999,inplace=True)\n",
        "df.head()"
      ],
      "execution_count": 214,
      "outputs": [
        {
          "output_type": "execute_result",
          "data": {
            "text/html": [
              "<div>\n",
              "<style scoped>\n",
              "    .dataframe tbody tr th:only-of-type {\n",
              "        vertical-align: middle;\n",
              "    }\n",
              "\n",
              "    .dataframe tbody tr th {\n",
              "        vertical-align: top;\n",
              "    }\n",
              "\n",
              "    .dataframe thead th {\n",
              "        text-align: right;\n",
              "    }\n",
              "</style>\n",
              "<table border=\"1\" class=\"dataframe\">\n",
              "  <thead>\n",
              "    <tr style=\"text-align: right;\">\n",
              "      <th></th>\n",
              "      <th>0</th>\n",
              "      <th>1</th>\n",
              "      <th>2</th>\n",
              "      <th>3</th>\n",
              "      <th>4</th>\n",
              "      <th>5</th>\n",
              "      <th>6</th>\n",
              "      <th>7</th>\n",
              "    </tr>\n",
              "  </thead>\n",
              "  <tbody>\n",
              "    <tr>\n",
              "      <th>0</th>\n",
              "      <td>0</td>\n",
              "      <td>2.0</td>\n",
              "      <td>2.0</td>\n",
              "      <td>6.0</td>\n",
              "      <td>0.0</td>\n",
              "      <td>1.0</td>\n",
              "      <td>2.0</td>\n",
              "      <td>0.0</td>\n",
              "    </tr>\n",
              "    <tr>\n",
              "      <th>1</th>\n",
              "      <td>0</td>\n",
              "      <td>3.0</td>\n",
              "      <td>2.0</td>\n",
              "      <td>4.0</td>\n",
              "      <td>0.0</td>\n",
              "      <td>1.0</td>\n",
              "      <td>1.0</td>\n",
              "      <td>1.0</td>\n",
              "    </tr>\n",
              "    <tr>\n",
              "      <th>2</th>\n",
              "      <td>0</td>\n",
              "      <td>3.0</td>\n",
              "      <td>2.0</td>\n",
              "      <td>4.0</td>\n",
              "      <td>0.0</td>\n",
              "      <td>1.0</td>\n",
              "      <td>1.0</td>\n",
              "      <td>0.0</td>\n",
              "    </tr>\n",
              "    <tr>\n",
              "      <th>3</th>\n",
              "      <td>0</td>\n",
              "      <td>5.0</td>\n",
              "      <td>1.0</td>\n",
              "      <td>3.0</td>\n",
              "      <td>0.0</td>\n",
              "      <td>1.0</td>\n",
              "      <td>1.0</td>\n",
              "      <td>1.0</td>\n",
              "    </tr>\n",
              "    <tr>\n",
              "      <th>4</th>\n",
              "      <td>0</td>\n",
              "      <td>3.0</td>\n",
              "      <td>2.0</td>\n",
              "      <td>0.0</td>\n",
              "      <td>0.0</td>\n",
              "      <td>1.0</td>\n",
              "      <td>1.0</td>\n",
              "      <td>1.0</td>\n",
              "    </tr>\n",
              "  </tbody>\n",
              "</table>\n",
              "</div>"
            ],
            "text/plain": [
              "   0    1    2    3    4    5    6    7\n",
              "0  0  2.0  2.0  6.0  0.0  1.0  2.0  0.0\n",
              "1  0  3.0  2.0  4.0  0.0  1.0  1.0  1.0\n",
              "2  0  3.0  2.0  4.0  0.0  1.0  1.0  0.0\n",
              "3  0  5.0  1.0  3.0  0.0  1.0  1.0  1.0\n",
              "4  0  3.0  2.0  0.0  0.0  1.0  1.0  1.0"
            ]
          },
          "metadata": {
            "tags": []
          },
          "execution_count": 214
        }
      ]
    },
    {
      "cell_type": "code",
      "metadata": {
        "id": "rj1UNszponUr",
        "colab_type": "code",
        "colab": {}
      },
      "source": [
        "X=np.array(df.drop(df.columns[0],axis=1))\n",
        "y=np.array(df[0])\n"
      ],
      "execution_count": 0,
      "outputs": []
    },
    {
      "cell_type": "code",
      "metadata": {
        "id": "DiejXE9eqJKm",
        "colab_type": "code",
        "colab": {}
      },
      "source": [
        "from sklearn.model_selection import cross_validate\n",
        "from sklearn import neighbors\n",
        "import sklearn"
      ],
      "execution_count": 0,
      "outputs": []
    },
    {
      "cell_type": "code",
      "metadata": {
        "id": "N48f8v6VqfUU",
        "colab_type": "code",
        "colab": {
          "base_uri": "https://localhost:8080/",
          "height": 35
        },
        "outputId": "dd09428c-9910-422e-f371-fef400d19998"
      },
      "source": [
        "x_train,x_test,y_train,y_test =  sklearn.model_selection.train_test_split(X,y, test_size=0.2)\n",
        "clf = neighbors.KNeighborsClassifier()\n",
        "clf.fit(x_train,y_train)\n",
        "accuracy = clf.score(x_test,y_test)\n",
        "print(accuracy)"
      ],
      "execution_count": 217,
      "outputs": [
        {
          "output_type": "stream",
          "text": [
            "0.6896551724137931\n"
          ],
          "name": "stdout"
        }
      ]
    }
  ]
}
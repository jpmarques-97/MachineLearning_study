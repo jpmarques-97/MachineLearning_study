{
  "nbformat": 4,
  "nbformat_minor": 0,
  "metadata": {
    "colab": {
      "name": "KNN_from_scratch.ipynb",
      "provenance": [],
      "collapsed_sections": [],
      "authorship_tag": "ABX9TyPDy9Scqj4c5bNrHGEuRHiW",
      "include_colab_link": true
    },
    "kernelspec": {
      "name": "python3",
      "display_name": "Python 3"
    }
  },
  "cells": [
    {
      "cell_type": "markdown",
      "metadata": {
        "id": "view-in-github",
        "colab_type": "text"
      },
      "source": [
        "<a href=\"https://colab.research.google.com/github/jpmarques-97/MachineLearning_study/blob/master/KNN_from_scratch.ipynb\" target=\"_parent\"><img src=\"https://colab.research.google.com/assets/colab-badge.svg\" alt=\"Open In Colab\"/></a>"
      ]
    },
    {
      "cell_type": "code",
      "metadata": {
        "id": "ckMl3Yyt8sgP",
        "colab_type": "code",
        "colab": {}
      },
      "source": [
        "import numpy as np"
      ],
      "execution_count": 0,
      "outputs": []
    },
    {
      "cell_type": "code",
      "metadata": {
        "id": "i61OfjaAcosN",
        "colab_type": "code",
        "colab": {}
      },
      "source": [
        "data_set = {'r':[[1,5],[2,4],[1,3]], 'b': [[5,8],[4,9],[5,11]]}\n",
        "test = [4,7]\n",
        "\n",
        "def KNN(data_set, test, k=3):\n",
        "  results = []\n",
        "  groups = []\n",
        "  for group in data_set:\n",
        "    groups.append([str(group),0])\n",
        "    for iten in data_set[group]:\n",
        "      results.append((np.linalg.norm(np.asarray(iten)-np.asarray(test)),str(group)))\n",
        "  results = sorted(results)\n",
        "  for i in range(k):\n",
        "    for group in groups:\n",
        "      if results[i][1] == group[0]:    \n",
        "        group[1] += 1\n",
        "  groups = sorted(groups,key=lambda x:x[1])\n",
        "  confidence = groups[-1][1]/sum([group[1] for group in groups])\n",
        "  \n",
        "  return groups[-1][0], confidence\n"
      ],
      "execution_count": 0,
      "outputs": []
    },
    {
      "cell_type": "code",
      "metadata": {
        "id": "1r8ygvSfc6In",
        "colab_type": "code",
        "outputId": "eb8f66ea-d977-4c84-d57c-588e61841743",
        "colab": {
          "base_uri": "https://localhost:8080/",
          "height": 54
        }
      },
      "source": [
        " KNN(data_set, [1,1])\n"
      ],
      "execution_count": 0,
      "outputs": [
        {
          "output_type": "stream",
          "text": [
            "[['b', 0], ['r', 3]]\n"
          ],
          "name": "stdout"
        },
        {
          "output_type": "execute_result",
          "data": {
            "text/plain": [
              "('r', 1.0)"
            ]
          },
          "metadata": {
            "tags": []
          },
          "execution_count": 147
        }
      ]
    }
  ]
}
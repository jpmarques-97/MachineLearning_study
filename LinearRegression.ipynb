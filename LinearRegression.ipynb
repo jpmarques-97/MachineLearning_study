{
  "nbformat": 4,
  "nbformat_minor": 0,
  "metadata": {
    "colab": {
      "name": "LinearRegression.ipynb",
      "provenance": [],
      "collapsed_sections": [],
      "include_colab_link": true
    },
    "kernelspec": {
      "name": "python3",
      "display_name": "Python 3"
    }
  },
  "cells": [
    {
      "cell_type": "markdown",
      "metadata": {
        "id": "view-in-github",
        "colab_type": "text"
      },
      "source": [
        "<a href=\"https://colab.research.google.com/github/jpmarques-97/MachineLearning_study/blob/master/LinearRegression.ipynb\" target=\"_parent\"><img src=\"https://colab.research.google.com/assets/colab-badge.svg\" alt=\"Open In Colab\"/></a>"
      ]
    },
    {
      "cell_type": "code",
      "metadata": {
        "id": "j_OkSyHlg4md",
        "colab_type": "code",
        "colab": {}
      },
      "source": [
        "from statistics import mean\n",
        "import numpy as np\n",
        "import matplotlib.pyplot as plt\n",
        "from matplotlib import style\n",
        "\n",
        "style.use('fivethirtyeight')"
      ],
      "execution_count": 0,
      "outputs": []
    },
    {
      "cell_type": "code",
      "metadata": {
        "id": "3KfwFDkI0DGB",
        "colab_type": "code",
        "colab": {}
      },
      "source": [
        "x_test1    = np.array([1,2,3,4,5,6,7], dtype=np.float64)\n",
        "y_test1    = np.array([2,5,5,8,7,10,15], dtype=np.float64)\n",
        "x_test2    = np.array([1,2,3,4,5,6,7], dtype=np.float64)\n",
        "y_test2    = np.array([5,2,4,3,7,4,3], dtype=np.float64)"
      ],
      "execution_count": 0,
      "outputs": []
    },
    {
      "cell_type": "code",
      "metadata": {
        "id": "3Gmj2gqf0iMp",
        "colab_type": "code",
        "outputId": "cd1187b5-8006-497a-be85-488e59032d10",
        "colab": {
          "base_uri": "https://localhost:8080/",
          "height": 262
        }
      },
      "source": [
        "f = plt.figure(figsize=(18,4))\n",
        "ax = f.add_subplot(121)\n",
        "ax2 = f.add_subplot(122)\n",
        "ax.scatter(x_test1,y_test1)\n",
        "ax2.scatter(x_test2,y_test2)\n",
        "f.show()"
      ],
      "execution_count": 0,
      "outputs": [
        {
          "output_type": "display_data",
          "data": {
            "image/png": "[encoded data removed]",
            "text/plain": [
              "<Figure size 1296x288 with 2 Axes>"
            ]
          },
          "metadata": {
            "tags": [],
            "needs_background": "light"
          }
        }
      ]
    },
    {
      "cell_type": "markdown",
      "metadata": {
        "id": "GILsfMDw7eQd",
        "colab_type": "text"
      },
      "source": [
        "#Logo acima temos dois graficos, candidatos a utilizacao de uma regressao linear.\n",
        "### A regressao linear é composta por uma reta, que com base nos dados obtidos (x,y) traca uma reta, tentando minimizar o erro referente a cada ponto.\n",
        "###Por  se tratar de uma reta, a regressao linear segue a formula da reta (y = mx + b), onde tentaremos descobrir os melhores valores de m e b. \n",
        "###Este é um algoritmo simpes, então é de se esperar que não consiga solucionar todos os problemas existentes. Logo acima foi selecionado dois tipos de graficos, o primeiro claramente apresenta uma tendencia (e, sendo assimm uma alta correlação entre os pontos). Já o segundo gráfico apresenta pouca ou nenhuma tendencia.\n",
        "### mais a frente iremos observar quão bem o algoritmo de regressão linear sai em ambas as opções."
      ]
    },
    {
      "cell_type": "markdown",
      "metadata": {
        "id": "jnq9sLFx_CLL",
        "colab_type": "text"
      },
      "source": [
        "![alt text](https://image.slidesharecdn.com/aula1-modelosderegressolinear-180206001444/95/aula-4-modelos-de-regresso-linear-21-638.jpg?cb=1517876163)"
      ]
    },
    {
      "cell_type": "code",
      "metadata": {
        "id": "E0PqdlGj24Oy",
        "colab_type": "code",
        "colab": {}
      },
      "source": [
        "#podemos observar na foto acima, a formula para m e b\n",
        "\n",
        "def best_fit(x,y):\n",
        "  m = ((mean(x)*mean(y))-(mean(x*y)))/((mean(x)**2)-(mean(x**2)))\n",
        "  b = mean(y) - m*mean(x)\n",
        "  return m,b"
      ],
      "execution_count": 0,
      "outputs": []
    },
    {
      "cell_type": "code",
      "metadata": {
        "id": "SYmwfFHF4yoy",
        "colab_type": "code",
        "colab": {}
      },
      "source": [
        "#descobrindo os valores de m e b para os 2 plots\n",
        "m,b = best_fit(x_test1,y_test1)\n",
        "regression_line1 = [(m*x)+b for x in x_test1]\n",
        "m,b = best_fit(x_test2,y_test2)\n",
        "regression_line2 = [(m*x)+b for x in x_test2]"
      ],
      "execution_count": 0,
      "outputs": []
    },
    {
      "cell_type": "code",
      "metadata": {
        "id": "doYWpEmB6xtK",
        "colab_type": "code",
        "outputId": "44a1dd31-7a11-4fdb-9857-7c4d3d4979aa",
        "colab": {
          "base_uri": "https://localhost:8080/",
          "height": 262
        }
      },
      "source": [
        "f = plt.figure(figsize=(18,4))\n",
        "ax = f.add_subplot(121)\n",
        "ax2 = f.add_subplot(122)\n",
        "ax.scatter(x_test1,y_test1)\n",
        "ax.plot(x_test1,regression_line1)\n",
        "ax2.scatter(x_test2,y_test2)\n",
        "ax2.plot(x_test2,regression_line2)\n",
        "f.show()"
      ],
      "execution_count": 0,
      "outputs": [
        {
          "output_type": "display_data",
          "data": {
            "image/png": "[encoded data removed]",
            "text/plain": [
              "<Figure size 1296x288 with 2 Axes>"
            ]
          },
          "metadata": {
            "tags": [],
            "needs_background": "light"
          }
        }
      ]
    },
    {
      "cell_type": "markdown",
      "metadata": {
        "id": "H8pYYIFy-BUb",
        "colab_type": "text"
      },
      "source": [
        "##Pudermos observar entao quao bem a regressao linear se sai nos dois tipos de situações.\n",
        "##Na primeira situacao, em um grafico com uma tendencia clara, o algoritmo conseguiu se adequar de forma satisfatória aos pontos existentes, formanto um erro relativo muito pequeno.\n",
        "##Na segunda sutuacao, onde o grafico apresenta um conjusto de pontos dispostos de forma caotica e sem uma tendencia clara, nosso algoritmo falha mizeravelmente em se ajustar aos pontos, o que faz com que obtenha um erro extremamente alto (mesmo com os pontos de teste) impossibilitando qualquer tentativa de predição. de dados."
      ]
    }
  ]
}
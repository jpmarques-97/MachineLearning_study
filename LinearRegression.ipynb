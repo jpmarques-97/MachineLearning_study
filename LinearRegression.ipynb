{
  "nbformat": 4,
  "nbformat_minor": 0,
  "metadata": {
    "colab": {
      "name": "LinearRegression.ipynb",
      "provenance": [],
      "collapsed_sections": [],
      "authorship_tag": "ABX9TyP1wvt3QHur6As/znHUSik/",
      "include_colab_link": true
    },
    "kernelspec": {
      "name": "python3",
      "display_name": "Python 3"
    }
  },
  "cells": [
    {
      "cell_type": "markdown",
      "metadata": {
        "id": "view-in-github",
        "colab_type": "text"
      },
      "source": [
        "<a href=\"https://colab.research.google.com/github/jpmarques-97/MachineLearning_study/blob/master/LinearRegression.ipynb\" target=\"_parent\"><img src=\"https://colab.research.google.com/assets/colab-badge.svg\" alt=\"Open In Colab\"/></a>"
      ]
    },
    {
      "cell_type": "code",
      "metadata": {
        "id": "2GjNRWLLxZF1",
        "colab_type": "code",
        "colab": {}
      },
      "source": [
        "import numpy as np\n",
        "import matplotlib.pyplot as plt\n",
        "import statistics\n",
        "import pandas as pd\n",
        "from matplotlib import style\n",
        "from statistics import stdev \n",
        "from statistics import mean"
      ],
      "execution_count": 0,
      "outputs": []
    },
    {
      "cell_type": "code",
      "metadata": {
        "id": "croNObAG9XhP",
        "colab_type": "code",
        "colab": {}
      },
      "source": [
        "def cost(theta,x,y):\n",
        "  m = len(x)\n",
        "  if m != len(y):\n",
        "    return \"please use the same length of x and y\"\n",
        "  custo = np.array(0,dtype='float64').reshape(1,1)\n",
        "  for i,item in enumerate(x):\n",
        "     custo += (h(theta,item.reshape(2,1))-y[i])**2 \n",
        "  return custo*(1/(2*m))"
      ],
      "execution_count": 0,
      "outputs": []
    },
    {
      "cell_type": "code",
      "metadata": {
        "id": "BBxX1sMU9_Lv",
        "colab_type": "code",
        "colab": {}
      },
      "source": [
        "def h(theta,x):\n",
        "  theta = np.transpose(np.matrix(theta))\n",
        "  predict = np.matmul(theta,x)\n",
        "\n",
        "  return predict"
      ],
      "execution_count": 0,
      "outputs": []
    },
    {
      "cell_type": "code",
      "metadata": {
        "id": "RoaUBQOlJNnC",
        "colab_type": "code",
        "colab": {}
      },
      "source": [
        "def gradientDescent(theta,alpha,x,y,itherations):\n",
        "  param = {'cost':[],'n_iter':[]}  \n",
        "  for i in range(itherations):\n",
        "    param['n_iter'].append(i)\n",
        "    for j,item in enumerate(theta):\n",
        "      delta = 0 \n",
        "      for i,item in enumerate(x):\n",
        "        delta += (h(theta,item.reshape(2,1))-y[i])*x[i][j]*alpha/len(x)\n",
        "      theta[j] = theta[j] - delta\n",
        "    param['cost'].append(float(cost(theta,x,y)))\n",
        "  return theta, param"
      ],
      "execution_count": 0,
      "outputs": []
    },
    {
      "cell_type": "code",
      "metadata": {
        "id": "MwySO_3H0lXc",
        "colab_type": "code",
        "outputId": "40d32e1c-8273-4729-ea7e-d63e942f2222",
        "colab": {
          "base_uri": "https://localhost:8080/",
          "height": 129
        }
      },
      "source": [
        "# Load the Drive helper and mount\n",
        "from google.colab import drive\n",
        "\n",
        "# This will prompt for authorization.\n",
        "drive.mount('/content/drive')"
      ],
      "execution_count": 0,
      "outputs": [
        {
          "output_type": "stream",
          "text": [
            "Go to this URL in a browser: https://accounts.google.com/o/oauth2/auth?client_id=947318989803-6bn6qk8qdgf4n4g3pfee6491hc0brc4i.apps.googleusercontent.com&redirect_uri=urn%3aietf%3awg%3aoauth%3a2.0%3aoob&response_type=code&scope=email%20https%3a%2f%2fwww.googleapis.com%2fauth%2fdocs.test%20https%3a%2f%2fwww.googleapis.com%2fauth%2fdrive%20https%3a%2f%2fwww.googleapis.com%2fauth%2fdrive.photos.readonly%20https%3a%2f%2fwww.googleapis.com%2fauth%2fpeopleapi.readonly\n",
            "\n",
            "Enter your authorization code:\n",
            "··········\n",
            "Mounted at /content/drive\n"
          ],
          "name": "stdout"
        }
      ]
    },
    {
      "cell_type": "code",
      "metadata": {
        "id": "WEwXssGB3ACh",
        "colab_type": "code",
        "outputId": "5947ada8-5941-4b32-c0e3-7968b5e20a1d",
        "colab": {
          "base_uri": "https://localhost:8080/",
          "height": 35
        }
      },
      "source": [
        "# After executing the cell above, Drive\n",
        "# files will be present in \"/content/drive/My Drive\".\n",
        "!ls \"/content/drive/My Drive/Coursera/Week2_data\""
      ],
      "execution_count": 0,
      "outputs": [
        {
          "output_type": "stream",
          "text": [
            "ex1data1.txt  ex1data2.txt\n"
          ],
          "name": "stdout"
        }
      ]
    },
    {
      "cell_type": "code",
      "metadata": {
        "id": "S-ETuUkF32s5",
        "colab_type": "code",
        "outputId": "f1c0915f-c670-499a-df74-444d4f4affc6",
        "colab": {
          "base_uri": "https://localhost:8080/",
          "height": 206
        }
      },
      "source": [
        "data = pd.read_csv('/content/drive/My Drive/Coursera/Week2_data/ex1data1.txt', header = None)\n",
        "data.head()"
      ],
      "execution_count": 0,
      "outputs": [
        {
          "output_type": "execute_result",
          "data": {
            "text/html": [
              "<div>\n",
              "<style scoped>\n",
              "    .dataframe tbody tr th:only-of-type {\n",
              "        vertical-align: middle;\n",
              "    }\n",
              "\n",
              "    .dataframe tbody tr th {\n",
              "        vertical-align: top;\n",
              "    }\n",
              "\n",
              "    .dataframe thead th {\n",
              "        text-align: right;\n",
              "    }\n",
              "</style>\n",
              "<table border=\"1\" class=\"dataframe\">\n",
              "  <thead>\n",
              "    <tr style=\"text-align: right;\">\n",
              "      <th></th>\n",
              "      <th>0</th>\n",
              "      <th>1</th>\n",
              "    </tr>\n",
              "  </thead>\n",
              "  <tbody>\n",
              "    <tr>\n",
              "      <th>0</th>\n",
              "      <td>6.1101</td>\n",
              "      <td>17.5920</td>\n",
              "    </tr>\n",
              "    <tr>\n",
              "      <th>1</th>\n",
              "      <td>5.5277</td>\n",
              "      <td>9.1302</td>\n",
              "    </tr>\n",
              "    <tr>\n",
              "      <th>2</th>\n",
              "      <td>8.5186</td>\n",
              "      <td>13.6620</td>\n",
              "    </tr>\n",
              "    <tr>\n",
              "      <th>3</th>\n",
              "      <td>7.0032</td>\n",
              "      <td>11.8540</td>\n",
              "    </tr>\n",
              "    <tr>\n",
              "      <th>4</th>\n",
              "      <td>5.8598</td>\n",
              "      <td>6.8233</td>\n",
              "    </tr>\n",
              "  </tbody>\n",
              "</table>\n",
              "</div>"
            ],
            "text/plain": [
              "        0        1\n",
              "0  6.1101  17.5920\n",
              "1  5.5277   9.1302\n",
              "2  8.5186  13.6620\n",
              "3  7.0032  11.8540\n",
              "4  5.8598   6.8233"
            ]
          },
          "metadata": {
            "tags": []
          },
          "execution_count": 7
        }
      ]
    },
    {
      "cell_type": "code",
      "metadata": {
        "id": "mCsBIAkA4Hr9",
        "colab_type": "code",
        "outputId": "8de07579-4f2e-4345-9134-5988f5b7d978",
        "colab": {
          "base_uri": "https://localhost:8080/",
          "height": 280
        }
      },
      "source": [
        "f = plt.figure(figsize=(18,4))\n",
        "ax = f.add_subplot(121)\n",
        "ax.scatter(data[0],data[1])\n",
        "x_axis = np.arange(np.min(data[0])-2,np.max(data[0])+2,1)\n",
        "ax.plot(x_axis,np.zeros((len(x_axis),1)),'black')\n",
        "plt.ylabel('Profit in $10,000s');\n",
        "plt.xlabel('Population of City in 10,000s');\n",
        "f.show()"
      ],
      "execution_count": 0,
      "outputs": [
        {
          "output_type": "display_data",
          "data": {
            "image/png": "[encoded data removed]",
            "text/plain": [
              "<Figure size 1296x288 with 1 Axes>"
            ]
          },
          "metadata": {
            "tags": [],
            "needs_background": "light"
          }
        }
      ]
    },
    {
      "cell_type": "code",
      "metadata": {
        "id": "sFLH_cVz88hk",
        "colab_type": "code",
        "colab": {}
      },
      "source": [
        "theta = np.zeros((2,1))\n",
        "itherations = 1500\n",
        "alpha = 0.01\n",
        "tamanho = len(data[0])\n",
        "uns = np.ones((tamanho,1))\n",
        "x = np.array(data[0]).reshape(tamanho,1)\n",
        "y = np.array(data[1]).reshape(tamanho,1)\n",
        "x = np.concatenate((uns,x),axis=1)"
      ],
      "execution_count": 0,
      "outputs": []
    },
    {
      "cell_type": "code",
      "metadata": {
        "id": "Q_CLJ2iLQr2w",
        "colab_type": "code",
        "outputId": "1dd0826a-7bbe-4fe5-8ae5-ace874d9a01f",
        "colab": {
          "base_uri": "https://localhost:8080/",
          "height": 279
        }
      },
      "source": [
        "theta,param = gradientDescent(theta,alpha,x,y,1500)\n",
        "f = plt.figure(figsize=(18,4))\n",
        "ax = f.add_subplot(121)\n",
        "ax.scatter(data[0],data[1])\n",
        "x_axis = np.arange(np.min(data[0])-2,np.max(data[0])+2,1)\n",
        "y_axis = theta[0]  + theta[1]*x_axis\n",
        "ax.plot(x_axis,y_axis,'black')\n",
        "plt.ylabel('Profit in $10,000s');\n",
        "plt.xlabel('Population of City in 10,000s');\n",
        "f.show()"
      ],
      "execution_count": 0,
      "outputs": [
        {
          "output_type": "display_data",
          "data": {
            "image/png": "[encoded data removed]",
            "text/plain": [
              "<Figure size 1296x288 with 1 Axes>"
            ]
          },
          "metadata": {
            "tags": [],
            "needs_background": "light"
          }
        }
      ]
    },
    {
      "cell_type": "code",
      "metadata": {
        "id": "vB52AgqgVNc1",
        "colab_type": "code",
        "colab": {}
      },
      "source": [
        "theta1 = np.arange(-1,2,10/100)\n",
        "theta2 = np.arange(-1,2,10/100)\n",
        "z = np.zeros((100,1))\n",
        "for i,item in enumerate(theta1):\n",
        "  theta_test = np.array([theta1[i],theta2[i]]).reshape(2,1)\n",
        "  z[i] = cost(theta_test,x,y)\n"
      ],
      "execution_count": 0,
      "outputs": []
    },
    {
      "cell_type": "code",
      "metadata": {
        "id": "Wfup90vDJljZ",
        "colab_type": "code",
        "outputId": "0f4237a4-edac-4ce4-c4fe-5c9d34cc803d",
        "colab": {
          "base_uri": "https://localhost:8080/",
          "height": 206
        }
      },
      "source": [
        "data2 = pd.read_csv('/content/drive/My Drive/Coursera/Week2_data/ex1data2.txt', header = None)\n",
        "data2.insert(0,'bias',np.ones((len(data2),1)))\n",
        "data2[0] = (data2[0]-mean(data2[0]))/stdev(data2[0])\n",
        "data2[1] = (data2[1]-mean(data2[1]))/stdev(data2[1])\n",
        "\n",
        "data2.head()"
      ],
      "execution_count": 0,
      "outputs": [
        {
          "output_type": "execute_result",
          "data": {
            "text/html": [
              "<div>\n",
              "<style scoped>\n",
              "    .dataframe tbody tr th:only-of-type {\n",
              "        vertical-align: middle;\n",
              "    }\n",
              "\n",
              "    .dataframe tbody tr th {\n",
              "        vertical-align: top;\n",
              "    }\n",
              "\n",
              "    .dataframe thead th {\n",
              "        text-align: right;\n",
              "    }\n",
              "</style>\n",
              "<table border=\"1\" class=\"dataframe\">\n",
              "  <thead>\n",
              "    <tr style=\"text-align: right;\">\n",
              "      <th></th>\n",
              "      <th>bias</th>\n",
              "      <th>0</th>\n",
              "      <th>1</th>\n",
              "      <th>2</th>\n",
              "    </tr>\n",
              "  </thead>\n",
              "  <tbody>\n",
              "    <tr>\n",
              "      <th>0</th>\n",
              "      <td>1.0</td>\n",
              "      <td>0.130010</td>\n",
              "      <td>-0.223675</td>\n",
              "      <td>399900</td>\n",
              "    </tr>\n",
              "    <tr>\n",
              "      <th>1</th>\n",
              "      <td>1.0</td>\n",
              "      <td>-0.504190</td>\n",
              "      <td>-0.223675</td>\n",
              "      <td>329900</td>\n",
              "    </tr>\n",
              "    <tr>\n",
              "      <th>2</th>\n",
              "      <td>1.0</td>\n",
              "      <td>0.502476</td>\n",
              "      <td>-0.223675</td>\n",
              "      <td>369000</td>\n",
              "    </tr>\n",
              "    <tr>\n",
              "      <th>3</th>\n",
              "      <td>1.0</td>\n",
              "      <td>-0.735723</td>\n",
              "      <td>-1.537767</td>\n",
              "      <td>232000</td>\n",
              "    </tr>\n",
              "    <tr>\n",
              "      <th>4</th>\n",
              "      <td>1.0</td>\n",
              "      <td>1.257476</td>\n",
              "      <td>1.090417</td>\n",
              "      <td>539900</td>\n",
              "    </tr>\n",
              "  </tbody>\n",
              "</table>\n",
              "</div>"
            ],
            "text/plain": [
              "   bias         0         1       2\n",
              "0   1.0  0.130010 -0.223675  399900\n",
              "1   1.0 -0.504190 -0.223675  329900\n",
              "2   1.0  0.502476 -0.223675  369000\n",
              "3   1.0 -0.735723 -1.537767  232000\n",
              "4   1.0  1.257476  1.090417  539900"
            ]
          },
          "metadata": {
            "tags": []
          },
          "execution_count": 13
        }
      ]
    },
    {
      "cell_type": "code",
      "metadata": {
        "id": "nOBEzaQtKCay",
        "colab_type": "code",
        "colab": {}
      },
      "source": [
        "x = np.array([data2['bias'],data2[0],data2[1]])\n",
        "a,b = x.shape\n",
        "y = np.array(data2[2]).reshape(b,1)\n",
        "theta = np.zeros((a,1))\n"
      ],
      "execution_count": 0,
      "outputs": []
    },
    {
      "cell_type": "code",
      "metadata": {
        "id": "SPKHAIsfKUoa",
        "colab_type": "code",
        "colab": {}
      },
      "source": [
        "def cost(theta,x,y):\n",
        "  z = np.matmul((h(theta,x) - y.T),(h(theta,x) - y.T).T)\n",
        "  return z/(len(x)*2)"
      ],
      "execution_count": 0,
      "outputs": []
    },
    {
      "cell_type": "code",
      "metadata": {
        "id": "g9pZKDV9FssG",
        "colab_type": "code",
        "colab": {}
      },
      "source": [
        "def sigmoid(z):\n",
        "  return 1/(1+np.exp(-z))"
      ],
      "execution_count": 0,
      "outputs": []
    },
    {
      "cell_type": "code",
      "metadata": {
        "id": "rf41tYIgRRE4",
        "colab_type": "code",
        "colab": {}
      },
      "source": [
        "def gradientDescent(theta,alpha,x,y,itherations):\n",
        "  param = {'cost':[],'n_iter':[]}  \n",
        "  for i in range(itherations):\n",
        "    param['n_iter'].append(i)\n",
        "    for j,item in enumerate(theta):\n",
        "      delta = 0 \n",
        "      for i,item in enumerate(x):\n",
        "        delta += (h(theta,item.reshape(3,1))-y[i])*x.T[j][i]*alpha/len(x)\n",
        "      theta[j] = theta[j] - delta\n",
        "    param['cost'].append(float(cost(theta,x.T,y)))\n",
        "  return theta, param"
      ],
      "execution_count": 0,
      "outputs": []
    },
    {
      "cell_type": "code",
      "metadata": {
        "id": "TJyzgZLcGOLj",
        "colab_type": "code",
        "colab": {}
      },
      "source": [
        "theta,param = gradientDescent(theta,0.3,x.T,y,80)\n"
      ],
      "execution_count": 0,
      "outputs": []
    },
    {
      "cell_type": "code",
      "metadata": {
        "id": "u0C0RhLQaLDO",
        "colab_type": "code",
        "outputId": "e439fb88-5507-4561-bc47-9532eebcc08a",
        "colab": {
          "base_uri": "https://localhost:8080/",
          "height": 290
        }
      },
      "source": [
        "plt.plot(param['n_iter'][1:],param['cost'][1:])\n",
        "plt.xlabel('m')\n",
        "plt.ylabel('J(m)')\n",
        "plt.show()"
      ],
      "execution_count": 0,
      "outputs": [
        {
          "output_type": "display_data",
          "data": {
            "image/png": "[encoded data removed]",
            "text/plain": [
              "<Figure size 432x288 with 1 Axes>"
            ]
          },
          "metadata": {
            "tags": [],
            "needs_background": "light"
          }
        }
      ]
    }
  ]
}